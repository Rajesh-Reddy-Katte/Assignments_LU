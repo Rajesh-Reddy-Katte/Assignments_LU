{
 "cells": [
  {
   "cell_type": "code",
   "execution_count": 1,
   "metadata": {},
   "outputs": [
    {
     "name": "stdout",
     "output_type": "stream",
     "text": [
      "20\n",
      "30\n",
      "40\n",
      "50\n",
      "78\n",
      "88\n",
      "98\n",
      "67\n",
      "56\n",
      "45\n",
      "[20, 30, 40, 50, 78, 88, 98, 56]\n"
     ]
    }
   ],
   "source": [
    "eve_list = []\n",
    "for i in range(10):\n",
    "    num = int(input())\n",
    "    if num%2 == 0:\n",
    "        eve_list.append(num)\n",
    "print(eve_list)"
   ]
  },
  {
   "cell_type": "code",
   "execution_count": 10,
   "metadata": {},
   "outputs": [
    {
     "name": "stdout",
     "output_type": "stream",
     "text": [
      "6\n",
      "{1: 1, 2: 4, 3: 9, 4: 16, 5: 25, 6: 36}\n"
     ]
    }
   ],
   "source": [
    "di = {}\n",
    "n = int(input())\n",
    "for i in range(1,n+1):\n",
    "    di[i] = i*i\n",
    "print(di)"
   ]
  },
  {
   "cell_type": "code",
   "execution_count": 28,
   "metadata": {},
   "outputs": [
    {
     "name": "stdout",
     "output_type": "stream",
     "text": [
      "4\n",
      "UP 5\n",
      "DOWN 3\n",
      "LEFT 3\n",
      "RIGHT 2\n",
      "{'UP': 5, 'DOWN': 3, 'LEFT': 3, 'RIGHT': 2}\n",
      "2\n"
     ]
    }
   ],
   "source": [
    "import math\n",
    "steps = int(input())\n",
    "steps_dic = {}\n",
    "for i in range(steps):\n",
    "    step_i = input()\n",
    "    step_i = step_i.split(' ')\n",
    "    steps_dic[step_i[0]] = int(step_i[1])\n",
    "print(steps_dic)\n",
    "x1 = steps_dic['UP']\n",
    "x2 = steps_dic['DOWN']\n",
    "y1 = steps_dic['LEFT']\n",
    "y2 = steps_dic['RIGHT']\n",
    "dis = math.sqrt(((x1-x2)**2)+((y1-y2)**2))\n",
    "print(round(dis))\n",
    "\n",
    "    "
   ]
  },
  {
   "cell_type": "markdown",
   "metadata": {},
   "source": [
    "# List Comprehension exercise\n"
   ]
  },
  {
   "cell_type": "code",
   "execution_count": 42,
   "metadata": {},
   "outputs": [
    {
     "data": {
      "text/plain": [
       "[4, 9, 16, 25, 36, 49, 64, 81]"
      ]
     },
     "execution_count": 42,
     "metadata": {},
     "output_type": "execute_result"
    }
   ],
   "source": [
    "[i**2 for i in range(2,10)]"
   ]
  },
  {
   "cell_type": "code",
   "execution_count": 41,
   "metadata": {},
   "outputs": [
    {
     "name": "stdout",
     "output_type": "stream",
     "text": [
      "[4, 16, 36, 64, 100, 144, 196, 256, 324, 400, 484, 576, 676, 784, 900, 1024, 1156, 1296, 1444, 1600, 1764, 1936, 2116, 2304, 2500, 2704, 2916, 3136, 3364, 3600, 3844, 4096, 4356, 4624]\n"
     ]
    }
   ],
   "source": [
    "l1= [x**2 for x in range(1, 70) if x % 2 == 0]\n",
    "print(l1)"
   ]
  },
  {
   "cell_type": "markdown",
   "metadata": {},
   "source": [
    "\n",
    "# List Comprehension : IF-ELSE"
   ]
  },
  {
   "cell_type": "code",
   "execution_count": 43,
   "metadata": {},
   "outputs": [
    {
     "data": {
      "text/plain": [
       "['dave', 'MICHEAL', 'DEEPS']"
      ]
     },
     "execution_count": 43,
     "metadata": {},
     "output_type": "execute_result"
    }
   ],
   "source": [
    "mylist = ['Dave', 'Micheal', 'Deeps']\n",
    "[x.upper() if len(x)>4 else x.lower() for x in mylist]"
   ]
  },
  {
   "cell_type": "markdown",
   "metadata": {},
   "source": [
    "# Filtering Dictionary using List Comprehension"
   ]
  },
  {
   "cell_type": "code",
   "execution_count": 44,
   "metadata": {},
   "outputs": [
    {
     "data": {
      "text/plain": [
       "[3, 4]"
      ]
     },
     "execution_count": 44,
     "metadata": {},
     "output_type": "execute_result"
    }
   ],
   "source": [
    "d = {'a': [1,2,1], 'b': [3,4,1], 'c': [5,6,2]}\n",
    "[x for x in d['b'] if x >2]"
   ]
  },
  {
   "cell_type": "code",
   "execution_count": 40,
   "metadata": {},
   "outputs": [
    {
     "data": {
      "text/plain": [
       "[(1, 3)]"
      ]
     },
     "execution_count": 40,
     "metadata": {},
     "output_type": "execute_result"
    }
   ],
   "source": [
    "[(x,y) for x, y in zip(d['a'],d['b']) if x == 1 and y > 1]"
   ]
  }
 ],
 "metadata": {
  "kernelspec": {
   "display_name": "Python 3",
   "language": "python",
   "name": "python3"
  },
  "language_info": {
   "codemirror_mode": {
    "name": "ipython",
    "version": 3
   },
   "file_extension": ".py",
   "mimetype": "text/x-python",
   "name": "python",
   "nbconvert_exporter": "python",
   "pygments_lexer": "ipython3",
   "version": "3.8.3"
  }
 },
 "nbformat": 4,
 "nbformat_minor": 4
}
