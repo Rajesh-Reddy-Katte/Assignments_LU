{
 "cells": [
  {
   "cell_type": "code",
   "execution_count": 1,
   "metadata": {},
   "outputs": [
    {
     "name": "stdout",
     "output_type": "stream",
     "text": [
      "Select correct answer from the given words from words_list{'A': 'RANIBOW', 'B': 'RAINBOW', 'C': 'BOWRANI', 'D': 'ROBWANI'}B\n",
      "RAINBOW\n"
     ]
    }
   ],
   "source": [
    "jumbled_word = 'OBANWRI'\n",
    "word_list = {'A':'RANIBOW', 'B':'RAINBOW', 'C':'BOWRANI', 'D':'ROBWANI'}\n",
    "user_word = input(\"Select correct answer from the given words from words_list{}\".format(word_list))\n",
    "print(word_list[user_word])"
   ]
  },
  {
   "cell_type": "code",
   "execution_count": 4,
   "metadata": {},
   "outputs": [
    {
     "name": "stdout",
     "output_type": "stream",
     "text": [
      "LETS UPGRADE\n"
     ]
    }
   ],
   "source": [
    "print(\"LETS UPGRADE\")"
   ]
  },
  {
   "cell_type": "code",
   "execution_count": 8,
   "metadata": {},
   "outputs": [
    {
     "name": "stdout",
     "output_type": "stream",
     "text": [
      "20\n",
      "30\n",
      "\"Profit\"\n"
     ]
    }
   ],
   "source": [
    "cp = int(input())\n",
    "sp = int(input())\n",
    "if (sp-cp) > 0:\n",
    "    print('\"Profit\"')\n",
    "if (sp-cp) == 0:\n",
    "    print('\"Neither\"')\n",
    "if (sp-cp) < 0:\n",
    "    print('\"Loss\"')"
   ]
  },
  {
   "cell_type": "code",
   "execution_count": 9,
   "metadata": {},
   "outputs": [
    {
     "name": "stdout",
     "output_type": "stream",
     "text": [
      "20\n",
      "1600\n"
     ]
    }
   ],
   "source": [
    "euros = int(input())\n",
    "rup = euros*80\n",
    "print(rup)"
   ]
  },
  {
   "cell_type": "code",
   "execution_count": null,
   "metadata": {},
   "outputs": [],
   "source": []
  },
  {
   "cell_type": "code",
   "execution_count": null,
   "metadata": {},
   "outputs": [],
   "source": []
  },
  {
   "cell_type": "code",
   "execution_count": null,
   "metadata": {},
   "outputs": [],
   "source": []
  }
 ],
 "metadata": {
  "kernelspec": {
   "display_name": "Python 3",
   "language": "python",
   "name": "python3"
  },
  "language_info": {
   "codemirror_mode": {
    "name": "ipython",
    "version": 3
   },
   "file_extension": ".py",
   "mimetype": "text/x-python",
   "name": "python",
   "nbconvert_exporter": "python",
   "pygments_lexer": "ipython3",
   "version": "3.8.3"
  }
 },
 "nbformat": 4,
 "nbformat_minor": 2
}
